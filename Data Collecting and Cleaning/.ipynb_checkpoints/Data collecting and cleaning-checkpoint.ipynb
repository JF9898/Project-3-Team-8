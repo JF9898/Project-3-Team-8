{
 "cells": [
  {
   "cell_type": "code",
   "execution_count": 1,
   "id": "7c8dc01f",
   "metadata": {},
   "outputs": [],
   "source": [
    "import pandas as pd \n",
    "# !pip install requests\n",
    "import requests \n",
    "import numpy as np\n",
    "import lxml\n",
    "from pprint import pprint\n",
    "url = \"https://transfermarket.p.rapidapi.com/statistic/list-most-valuable-clubs\""
   ]
  },
  {
   "cell_type": "code",
   "execution_count": 2,
   "id": "e14bd6ee",
   "metadata": {},
   "outputs": [
    {
     "ename": "KeyError",
     "evalue": "'teams'",
     "output_type": "error",
     "traceback": [
      "\u001b[1;31m---------------------------------------------------------------------------\u001b[0m",
      "\u001b[1;31mKeyError\u001b[0m                                  Traceback (most recent call last)",
      "Input \u001b[1;32mIn [2]\u001b[0m, in \u001b[0;36m<cell line: 17>\u001b[1;34m()\u001b[0m\n\u001b[0;32m     14\u001b[0m api_response \u001b[38;5;241m=\u001b[39m response\u001b[38;5;241m.\u001b[39mjson()\n\u001b[0;32m     16\u001b[0m \u001b[38;5;66;03m#make a dataframe from the api_response\u001b[39;00m\n\u001b[1;32m---> 17\u001b[0m response_df \u001b[38;5;241m=\u001b[39m pd\u001b[38;5;241m.\u001b[39mDataFrame(\u001b[43mapi_response\u001b[49m\u001b[43m[\u001b[49m\u001b[38;5;124;43m'\u001b[39;49m\u001b[38;5;124;43mteams\u001b[39;49m\u001b[38;5;124;43m'\u001b[39;49m\u001b[43m]\u001b[49m)\n\u001b[0;32m     19\u001b[0m \u001b[38;5;66;03m#drop unneeded columns \u001b[39;00m\n\u001b[0;32m     20\u001b[0m response_df\u001b[38;5;241m.\u001b[39mdrop([\u001b[38;5;124m'\u001b[39m\u001b[38;5;124mnumber\u001b[39m\u001b[38;5;124m'\u001b[39m, \u001b[38;5;124m'\u001b[39m\u001b[38;5;124mcountryImage\u001b[39m\u001b[38;5;124m'\u001b[39m,\u001b[38;5;124m'\u001b[39m\u001b[38;5;124mclubImage\u001b[39m\u001b[38;5;124m'\u001b[39m, \u001b[38;5;124m'\u001b[39m\u001b[38;5;124mmarketValue\u001b[39m\u001b[38;5;124m'\u001b[39m, \u001b[38;5;124m'\u001b[39m\u001b[38;5;124mmarketValueNumeral\u001b[39m\u001b[38;5;124m'\u001b[39m], axis\u001b[38;5;241m=\u001b[39m\u001b[38;5;241m1\u001b[39m, inplace\u001b[38;5;241m=\u001b[39m\u001b[38;5;28;01mTrue\u001b[39;00m)\n",
      "\u001b[1;31mKeyError\u001b[0m: 'teams'"
     ]
    }
   ],
   "source": [
    "headers = {\n",
    "\t\"X-RapidAPI-Key\": \"900cc08f36msh48bec253bfe456bp100148jsn8c5ab8de0a04\",\n",
    "\t\"X-RapidAPI-Host\": \"transfermarket.p.rapidapi.com\"\n",
    "}\n",
    "euro_rankings = pd.read_html('https://fbref.com/en/')[0]\n",
    "euro_rankings\n",
    "\n",
    "for index, row in euro_rankings.iterrows():\n",
    "   team_name = row['Squad']\n",
    "   querystring = {\"query\":team_name,\"domain\":\"de\"}\n",
    "   response = requests.request(\"GET\", url, headers=headers, params=querystring)\n",
    "\n",
    "    \n",
    "api_response = response.json()\n",
    "\n",
    "#make a dataframe from the api_response\n",
    "response_df = pd.DataFrame(api_response['teams'])\n",
    "\n",
    "#drop unneeded columns \n",
    "response_df.drop(['number', 'countryImage','clubImage', 'marketValue', 'marketValueNumeral'], axis=1, inplace=True)\n",
    "\n",
    "#rename columns\n",
    "response_df.rename(columns={'clubName':'Team', 'marketValueUnformatted':'Market Value', 'countryName':'Country'}, inplace=True)\n",
    "\n",
    "response_df.rename(columns={'competitionID': 'League ID', \n",
    "                            'competitionName': 'League', \n",
    "                            'avgAge': 'Average Age', \n",
    "                            'marketValueCurrency': 'Currency'}, inplace=True)"
   ]
  },
  {
   "cell_type": "code",
   "execution_count": null,
   "id": "c2233a32",
   "metadata": {},
   "outputs": [],
   "source": [
    "# Collect Lat/Long then merge to response_df\n",
    "# Enter 'pip install geopy' to command to install geopy\n",
    "\n",
    "from geopy.geocoders import Nominatim\n",
    "geolocator = Nominatim(user_agent=\"my-app\")\n",
    "countries = response_df['Country'].unique()\n",
    "lat=[]\n",
    "long=[]\n",
    "\n",
    "for c in countries:\n",
    "    location = geolocator.geocode(c)\n",
    "    if location:\n",
    "        lat.append(location.latitude)\n",
    "        long.append(location.longitude)\n",
    "    else:\n",
    "        lat.append(None)\n",
    "        long.append(None)\n",
    "countries_df = pd.DataFrame({\"Country\":countries,\n",
    "                            \"Lat\":lat,\n",
    "                            \"Long\":long})\n"
   ]
  },
  {
   "cell_type": "code",
   "execution_count": null,
   "id": "66b77975",
   "metadata": {},
   "outputs": [],
   "source": [
    "countries_df"
   ]
  },
  {
   "cell_type": "code",
   "execution_count": null,
   "id": "8d485618",
   "metadata": {},
   "outputs": [],
   "source": [
    "#Merge main data with lat/long\n",
    "response_df=pd.merge(response_df,countries_df,how='left',on='Country')\n",
    "response_df.head()"
   ]
  },
  {
   "cell_type": "code",
   "execution_count": null,
   "id": "404e59a7",
   "metadata": {},
   "outputs": [],
   "source": [
    "response_df['League'].unique()"
   ]
  },
  {
   "cell_type": "code",
   "execution_count": null,
   "id": "9b28089f",
   "metadata": {},
   "outputs": [],
   "source": [
    "# Collect performance data from fbef website\n",
    "Ligue_1_League_ranking  = pd.read_html('https://fbref.com/en/comps/13/Ligue-1-Stats')[0]\n",
    "Serie_A_rankings = pd.read_html('https://fbref.com/en/comps/11/Serie-A-Stats')[0]\n",
    "Bundesliga_rankings = pd.read_html('https://fbref.com/en/comps/20/Bundesliga-Stats')[0]\n",
    "Laliga_rankings = pd.read_html('https://fbref.com/en/comps/12/La-Liga-Stats')[0]\n",
    "Premier_rankings = pd.read_html('https://fbref.com/en/comps/9/Premier-League-Stats')[0]\n",
    "Liga_Portugal_rankings = pd.read_html('https://fbref.com/en/comps/32/Primeira-Liga-Stats')[0]\n",
    "Eredivisie_rankings = pd.read_html('https://fbref.com/en/comps/23/Eredivisie-Stats')[0]\n",
    "Super_Lig_rankings = pd.read_html('https://fbref.com/en/comps/26/Super-Lig-Stats')[0]\n",
    "Jupiler_Pro_League_rankings = pd.read_html('https://fbref.com/en/comps/37/Belgian-First-Division-A-Stats')[0]\n",
    "Campeonato_rankings = pd.read_html('https://fbref.com/en/comps/24/Serie-A-Stats')[0]\n",
    "Scottish_Premiership_rankings = pd.read_html('https://fbref.com/en/comps/40/Scottish-Premiership-Stats')[0]\n",
    "Championship_rankings = pd.read_html('https://fbref.com/en/comps/10/Championship-Stats')[0]\n",
    "Super_League_1_rankings = pd.read_html('https://fbref.com/en/comps/27/Super-League-Greece-Stats')[0]\n",
    "Campeonato_Mineiro_rankings=pd.read_html('https://fbref.com/en/comps/38/Serie-B-Stats')[0]\n",
    "Liga_Professional_de_Futbol_rankings=pd.read_html('https://fbref.com/en/comps/21/Primera-Division-Stats')[0]\n",
    "Supersport_HNL_rankings=pd.read_html('https://fbref.com/en/comps/63/1-HNL-Stats')[0]\n",
    "Austria_rankings = pd.read_html('https://fbref.com/en/comps/56/Austrian-Bundesliga-Stats')[0]\n",
    "Russia_rankings = pd.read_html('https://fbref.com/en/comps/30/Russian-Premier-League-Stats')[0]"
   ]
  },
  {
   "cell_type": "code",
   "execution_count": null,
   "id": "d515dc50",
   "metadata": {},
   "outputs": [],
   "source": [
    "# Union to 1 DataFrame\n",
    "performance_df = pd.concat([Ligue_1_League_ranking,\n",
    "                           Serie_A_rankings,\n",
    "                           Bundesliga_rankings,\n",
    "                           Laliga_rankings,\n",
    "                           Premier_rankings,\n",
    "                           Liga_Portugal_rankings,\n",
    "                           Eredivisie_rankings,\n",
    "                           Super_Lig_rankings,\n",
    "                           Jupiler_Pro_League_rankings,\n",
    "                           Campeonato_rankings,\n",
    "                           Scottish_Premiership_rankings,\n",
    "                           Championship_rankings,\n",
    "                           Super_League_1_rankings,\n",
    "                           Campeonato_Mineiro_rankings,\n",
    "                           Liga_Professional_de_Futbol_rankings,\n",
    "                           Supersport_HNL_rankings,\n",
    "                           Austria_rankings,\n",
    "                           Russia_rankings])\n",
    "\n",
    "# Select columns\n",
    "performance_df=performance_df[['Rk', 'Squad', 'MP', 'W', 'D', 'L', 'GF', 'GA', 'GD', 'Pts', 'Pts/MP']]\n",
    "\n",
    "performance_df"
   ]
  },
  {
   "cell_type": "code",
   "execution_count": null,
   "id": "0581cde2",
   "metadata": {},
   "outputs": [],
   "source": [
    "response_df2 = response_df.loc[(response_df['League ID'] != 'L1')&\n",
    "    (response_df['League ID'] != 'GB1')&\n",
    "    (response_df['League ID'] != 'ES1')&\n",
    "    (response_df['League ID'] != 'FR1')&\n",
    "    (response_df['League ID'] != 'IT1'),:]\n",
    "for r in response_df2.Team.unique():\n",
    "    print(r)"
   ]
  },
  {
   "cell_type": "code",
   "execution_count": null,
   "id": "114e947f",
   "metadata": {},
   "outputs": [],
   "source": [
    "for r in performance_df.Squad.unique():\n",
    "    print(r)"
   ]
  },
  {
   "cell_type": "code",
   "execution_count": null,
   "id": "579a5c62",
   "metadata": {},
   "outputs": [],
   "source": [
    "# Clean performance_df['Squad'] to match with response_df['Team'] before merging\n",
    "response_df['Team']=[row.replace('1.FC Köln','Köln') for row in response_df['Team']]\n",
    "response_df['Team']=[row.replace('1.FSV Mainz 05','Mainz 05') for row in response_df['Team']]\n",
    "response_df['Team']=[row.replace('AC Florenz','Fiorentina') for row in response_df['Team']]\n",
    "response_df['Team']=[row.replace('AC Mailand','Milan') for row in response_df['Team']]\n",
    "response_df['Team']=[row.replace('AS Monaco','Monaco') for row in response_df['Team']]\n",
    "response_df['Team']=[row.replace('AS Rom','Roma') for row in response_df['Team']]\n",
    "response_df['Team']=[row.replace('Aston Villa','Aston Villa') for row in response_df['Team']]\n",
    "response_df['Team']=[row.replace('Atal. Bergamo','Atalanta') for row in response_df['Team']]\n",
    "response_df['Team']=[row.replace('Athletic Bilbao','Athletic Club') for row in response_df['Team']]\n",
    "response_df['Team']=[row.replace('Atlético Madrid','Atlético Madrid') for row in response_df['Team']]\n",
    "response_df['Team']=[row.replace('B. Leverkusen','Leverkusen') for row in response_df['Team']]\n",
    "response_df['Team']=[row.replace('Bayern München','Bayern Munich') for row in response_df['Team']]\n",
    "response_df['Team']=[row.replace('Betis Sevilla','Sevilla') for row in response_df['Team']]\n",
    "response_df['Team']=[row.replace('Bor. Dortmund','Dortmund') for row in response_df['Team']]\n",
    "response_df['Team']=[row.replace(\"Bor. M'gladbach\",\"M'Gladbach\") for row in response_df['Team']]\n",
    "response_df['Team']=[row.replace('Bournemouth','Bournemouth') for row in response_df['Team']]\n",
    "response_df['Team']=[row.replace('Brighton','Brighton') for row in response_df['Team']]\n",
    "response_df['Team']=[row.replace('CA Osasuna','Osasuna') for row in response_df['Team']]\n",
    "response_df['Team']=[row.replace('Celta Vigo','Celta Vigo') for row in response_df['Team']]\n",
    "response_df['Team']=[row.replace('Crystal Palace','Crystal Palace') for row in response_df['Team']]\n",
    "response_df['Team']=[row.replace('E. Frankfurt','Eint Frankfurt') for row in response_df['Team']]\n",
    "response_df['Team']=[row.replace('Esp. Barcelona','Barcelona') for row in response_df['Team']]\n",
    "response_df['Team']=[row.replace('FC Arsenal','Arsenal') for row in response_df['Team']]\n",
    "response_df['Team']=[row.replace('FC Augsburg','Augsburg') for row in response_df['Team']]\n",
    "response_df['Team']=[row.replace('FC Barcelona','Barcelona') for row in response_df['Team']]\n",
    "response_df['Team']=[row.replace('FC Bologna','Bologna') for row in response_df['Team']]\n",
    "response_df['Team']=[row.replace('FC Brentford','Brentford') for row in response_df['Team']]\n",
    "response_df['Team']=[row.replace('FC Chelsea','Chelsea') for row in response_df['Team']]\n",
    "response_df['Team']=[row.replace('FC Everton','Everton') for row in response_df['Team']]\n",
    "response_df['Team']=[row.replace('FC Fulham','Fulham') for row in response_df['Team']]\n",
    "response_df['Team']=[row.replace('FC Getafe','Getafe') for row in response_df['Team']]\n",
    "response_df['Team']=[row.replace('FC Girona','Girona') for row in response_df['Team']]\n",
    "response_df['Team']=[row.replace('FC Nantes','Nantes') for row in response_df['Team']]\n",
    "response_df['Team']=[row.replace('FC Sevilla','Sevilla') for row in response_df['Team']]\n",
    "response_df['Team']=[row.replace('FC Turin','Torino') for row in response_df['Team']]\n",
    "response_df['Team']=[row.replace('FC Valencia','Valencia') for row in response_df['Team']]\n",
    "response_df['Team']=[row.replace('FC Villarreal','Villarreal') for row in response_df['Team']]\n",
    "response_df['Team']=[row.replace('Hertha BSC','Hertha BSC') for row in response_df['Team']]\n",
    "response_df['Team']=[row.replace('Inter Mailand','Inter') for row in response_df['Team']]\n",
    "response_df['Team']=[row.replace('Juventus Turin','Juventus') for row in response_df['Team']]\n",
    "response_df['Team']=[row.replace('Lazio Rom','Lazio') for row in response_df['Team']]\n",
    "response_df['Team']=[row.replace('Leeds United','Leeds United') for row in response_df['Team']]\n",
    "response_df['Team']=[row.replace('Leicester City','Leicester City') for row in response_df['Team']]\n",
    "response_df['Team']=[row.replace('Liverpool','Liverpool') for row in response_df['Team']]\n",
    "response_df['Team']=[row.replace('LOSC Lille','Lille') for row in response_df['Team']]\n",
    "response_df['Team']=[row.replace('Manchester City','Manchester City') for row in response_df['Team']]\n",
    "response_df['Team']=[row.replace('Manchester Utd.','Manchester Utd') for row in response_df['Team']]\n",
    "response_df['Team']=[row.replace('Montpellier HSC','Montpellier') for row in response_df['Team']]\n",
    "response_df['Team']=[row.replace('Monza','Monza') for row in response_df['Team']]\n",
    "response_df['Team']=[row.replace('Newcastle Utd.','Newcastle Utd') for row in response_df['Team']]\n",
    "response_df['Team']=[row.replace('Nottm Forest',\"Nott'ham Forest\") for row in response_df['Team']]\n",
    "response_df['Team']=[row.replace('OGC Nizza','Nice') for row in response_df['Team']]\n",
    "response_df['Team']=[row.replace('Ol. Marseille','Marseille') for row in response_df['Team']]\n",
    "response_df['Team']=[row.replace('Olympique Lyon','Lyon') for row in response_df['Team']]\n",
    "response_df['Team']=[row.replace('Paris SG','Paris S-G') for row in response_df['Team']]\n",
    "response_df['Team']=[row.replace('RB Leipzig','RB Leipzig') for row in response_df['Team']]\n",
    "response_df['Team']=[row.replace('RC Lens','Lens') for row in response_df['Team']]\n",
    "response_df['Team']=[row.replace('Real Madrid','Real Madrid') for row in response_df['Team']]\n",
    "response_df['Team']=[row.replace('Real Sociedad','Real Sociedad') for row in response_df['Team']]\n",
    "response_df['Team']=[row.replace('Rennes','Rennes') for row in response_df['Team']]\n",
    "response_df['Team']=[row.replace('SC Freiburg','Freiburg') for row in response_df['Team']]\n",
    "response_df['Team']=[row.replace('Southampton','Southampton') for row in response_df['Team']]\n",
    "response_df['Team']=[row.replace('SSC Neapel','Napoli') for row in response_df['Team']]\n",
    "response_df['Team']=[row.replace('Tottenham','Tottenham') for row in response_df['Team']]\n",
    "response_df['Team']=[row.replace('TSG Hoffenheim','Hoffenheim') for row in response_df['Team']]\n",
    "response_df['Team']=[row.replace('UD Almería','Almería') for row in response_df['Team']]\n",
    "response_df['Team']=[row.replace('Udinese Calcio','Udinese') for row in response_df['Team']]\n",
    "response_df['Team']=[row.replace('Union Berlin','Union Berlin') for row in response_df['Team']]\n",
    "response_df['Team']=[row.replace('US Salernitana','Salernitana') for row in response_df['Team']]\n",
    "response_df['Team']=[row.replace('US Sassuolo','Sassuolo') for row in response_df['Team']]\n",
    "response_df['Team']=[row.replace('VfB Stuttgart','Stuttgart') for row in response_df['Team']]\n",
    "response_df['Team']=[row.replace('VfL Wolfsburg','Wolfsburg') for row in response_df['Team']]\n",
    "response_df['Team']=[row.replace('West Ham Utd.','West Ham') for row in response_df['Team']]\n",
    "response_df['Team']=[row.replace('Wolverhampton','Wolves') for row in response_df['Team']]\n",
    "response_df['Team']=[row.replace('Benfica','Benfica') for row in response_df['Team']]\n",
    "response_df['Team']=[row.replace('Ajax Amsterdam','Ajax') for row in response_df['Team']]\n",
    "response_df['Team']=[row.replace('FC Porto','Porto') for row in response_df['Team']]\n",
    "response_df['Team']=[row.replace('Sporting','Sporting CP') for row in response_df['Team']]\n",
    "response_df['Team']=[row.replace('RB Salzburg','RB Salzburg') for row in response_df['Team']]\n",
    "response_df['Team']=[row.replace('PSV Eindhoven','PSV Eindhoven') for row in response_df['Team']]\n",
    "response_df['Team']=[row.replace('Fenerbahce','Fenerbahçe') for row in response_df['Team']]\n",
    "response_df['Team']=[row.replace('FC Brügge','Club Brugge') for row in response_df['Team']]\n",
    "response_df['Team']=[row.replace('Galatasaray','Galatasaray') for row in response_df['Team']]\n",
    "response_df['Team']=[row.replace('Flamengo','Flamengo') for row in response_df['Team']]\n",
    "response_df['Team']=[row.replace('Zenit S-Pb','Zenit') for row in response_df['Team']]\n",
    "response_df['Team']=[row.replace('Feyenoord','Feyenoord') for row in response_df['Team']]\n",
    "response_df['Team']=[row.replace('Trabzonspor','Trabzonspor') for row in response_df['Team']]\n",
    "response_df['Team']=[row.replace('Glasgow Rangers','Rangers') for row in response_df['Team']]\n",
    "response_df['Team']=[row.replace('Palmeiras','Palmeiras') for row in response_df['Team']]\n",
    "response_df['Team']=[row.replace('FC Watford','Watford') for row in response_df['Team']]\n",
    "response_df['Team']=[row.replace('Besiktas','Beşiktaş') for row in response_df['Team']]\n",
    "response_df['Team']=[row.replace('Atlético-MG','Atlético Mineiro') for row in response_df['Team']]\n",
    "response_df['Team']=[row.replace('SC Braga','Braga') for row in response_df['Team']]\n",
    "response_df['Team']=[row.replace('Celtic Glasgow','Celtic') for row in response_df['Team']]\n",
    "response_df['Team']=[row.replace('Olymp. Piräus','Olympiacos') for row in response_df['Team']]\n",
    "response_df['Team']=[row.replace('Norwich City','Norwich City') for row in response_df['Team']]\n",
    "response_df['Team']=[row.replace('KRC Genk ','Genk') for row in response_df['Team']]\n",
    "response_df['Team']=[row.replace('River Plate','River Plate') for row in response_df['Team']]\n",
    "response_df['Team']=[row.replace('Dinamo Zagreb','Dinamo Zagreb') for row in response_df['Team']]\n",
    "response_df['Team']=[row.replace('FC Burnley','Burnley') for row in response_df['Team']]\n",
    "\n",
    "response_df.head()"
   ]
  },
  {
   "cell_type": "code",
   "execution_count": null,
   "id": "c43d0ec4",
   "metadata": {},
   "outputs": [],
   "source": [
    "# Merge performance_df with response_df through Squad and Team\n",
    "response_df=pd.merge(response_df,performance_df,how='left',left_on='Team',right_on='Squad')\n",
    "response_df"
   ]
  },
  {
   "cell_type": "code",
   "execution_count": null,
   "id": "ff42d024",
   "metadata": {},
   "outputs": [],
   "source": [
    "# Drop Squad column as contain same value as Team\n",
    "response_df.drop(['Squad'], axis=1, inplace=True)"
   ]
  },
  {
   "cell_type": "code",
   "execution_count": null,
   "id": "c436cde1",
   "metadata": {
    "scrolled": true
   },
   "outputs": [],
   "source": [
    "response_df.head()"
   ]
  },
  {
   "cell_type": "code",
   "execution_count": null,
   "id": "f6ef5984",
   "metadata": {},
   "outputs": [],
   "source": [
    "response_df.info()"
   ]
  },
  {
   "cell_type": "code",
   "execution_count": null,
   "id": "47414048",
   "metadata": {},
   "outputs": [],
   "source": [
    "# Save reponse_df to a csv\n",
    "response_df.to_csv('cleaned_data.csv',index=False)"
   ]
  },
  {
   "cell_type": "code",
   "execution_count": null,
   "id": "017009ed",
   "metadata": {},
   "outputs": [],
   "source": []
  }
 ],
 "metadata": {
  "kernelspec": {
   "display_name": "Python 3 (ipykernel)",
   "language": "python",
   "name": "python3"
  },
  "language_info": {
   "codemirror_mode": {
    "name": "ipython",
    "version": 3
   },
   "file_extension": ".py",
   "mimetype": "text/x-python",
   "name": "python",
   "nbconvert_exporter": "python",
   "pygments_lexer": "ipython3",
   "version": "3.9.12"
  }
 },
 "nbformat": 4,
 "nbformat_minor": 5
}
